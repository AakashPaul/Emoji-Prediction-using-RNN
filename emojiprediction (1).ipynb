{
 "cells": [
  {
   "cell_type": "markdown",
   "metadata": {
    "colab_type": "text",
    "id": "9UhUTwOadzpv"
   },
   "source": [
    "--> importing the necessary libraries"
   ]
  },
  {
   "cell_type": "code",
   "execution_count": 32,
   "metadata": {
    "colab": {
     "base_uri": "https://localhost:8080/",
     "height": 34
    },
    "colab_type": "code",
    "id": "rozUlWTHQSJY",
    "outputId": "c8fa32b3-027c-41c2-bb3f-714ad4299609"
   },
   "outputs": [
    {
     "name": "stdout",
     "output_type": "stream",
     "text": [
      "Requirement already satisfied: emoji in /usr/local/lib/python3.6/dist-packages (0.5.4)\n"
     ]
    }
   ],
   "source": [
    "!pip install emoji"
   ]
  },
  {
   "cell_type": "code",
   "execution_count": 0,
   "metadata": {
    "colab": {},
    "colab_type": "code",
    "id": "a7jhfv6zRAGe"
   },
   "outputs": [],
   "source": [
    "#emoji.UNICODE_EMOJI"
   ]
  },
  {
   "cell_type": "code",
   "execution_count": 0,
   "metadata": {
    "colab": {},
    "colab_type": "code",
    "id": "XBEtnQGCQ5nt"
   },
   "outputs": [],
   "source": [
    "import emoji\n",
    "import pandas as pd\n",
    "import numpy as np"
   ]
  },
  {
   "cell_type": "code",
   "execution_count": 36,
   "metadata": {
    "colab": {
     "base_uri": "https://localhost:8080/",
     "height": 34
    },
    "colab_type": "code",
    "id": "K6J7tVeuRDVZ",
    "outputId": "3fe07e5a-1719-4a4e-fc4f-1c55619be01c"
   },
   "outputs": [
    {
     "data": {
      "text/plain": [
       "'⚾'"
      ]
     },
     "execution_count": 36,
     "metadata": {
      "tags": []
     },
     "output_type": "execute_result"
    }
   ],
   "source": [
    "emoji.emojize(\":baseball:\")"
   ]
  },
  {
   "cell_type": "markdown",
   "metadata": {
    "colab_type": "text",
    "id": "7teosPWDf_kQ"
   },
   "source": [
    "--> processing train and test data set"
   ]
  },
  {
   "cell_type": "code",
   "execution_count": 37,
   "metadata": {
    "colab": {
     "base_uri": "https://localhost:8080/",
     "height": 34
    },
    "colab_type": "code",
    "id": "G8ZLOJ5mCrAn",
    "outputId": "cf3e00e4-919c-4460-89bb-26a24e47f9b2"
   },
   "outputs": [
    {
     "name": "stdout",
     "output_type": "stream",
     "text": [
      "Drive already mounted at /content/drive; to attempt to forcibly remount, call drive.mount(\"/content/drive\", force_remount=True).\n"
     ]
    }
   ],
   "source": [
    "from google.colab import drive\n",
    "drive.mount('/content/drive')"
   ]
  },
  {
   "cell_type": "code",
   "execution_count": 0,
   "metadata": {
    "colab": {},
    "colab_type": "code",
    "id": "HZj6ydZSEKRJ"
   },
   "outputs": [],
   "source": [
    "train = pd.read_csv(\"train_emoji.csv\" , header=None) \n",
    "test = pd.read_csv(\"test_emoji.csv\" , header=None) "
   ]
  },
  {
   "cell_type": "code",
   "execution_count": 39,
   "metadata": {
    "colab": {
     "base_uri": "https://localhost:8080/",
     "height": 343
    },
    "colab_type": "code",
    "id": "kausqGgfEtIU",
    "outputId": "585389a7-5618-412a-fea9-26249d279f30"
   },
   "outputs": [
    {
     "data": {
      "text/html": [
       "<div>\n",
       "<style scoped>\n",
       "    .dataframe tbody tr th:only-of-type {\n",
       "        vertical-align: middle;\n",
       "    }\n",
       "\n",
       "    .dataframe tbody tr th {\n",
       "        vertical-align: top;\n",
       "    }\n",
       "\n",
       "    .dataframe thead th {\n",
       "        text-align: right;\n",
       "    }\n",
       "</style>\n",
       "<table border=\"1\" class=\"dataframe\">\n",
       "  <thead>\n",
       "    <tr style=\"text-align: right;\">\n",
       "      <th></th>\n",
       "      <th>0</th>\n",
       "      <th>1</th>\n",
       "      <th>2</th>\n",
       "      <th>3</th>\n",
       "    </tr>\n",
       "  </thead>\n",
       "  <tbody>\n",
       "    <tr>\n",
       "      <th>0</th>\n",
       "      <td>never talk to me again</td>\n",
       "      <td>3</td>\n",
       "      <td>NaN</td>\n",
       "      <td>NaN</td>\n",
       "    </tr>\n",
       "    <tr>\n",
       "      <th>1</th>\n",
       "      <td>I am proud of your achievements</td>\n",
       "      <td>2</td>\n",
       "      <td>NaN</td>\n",
       "      <td>NaN</td>\n",
       "    </tr>\n",
       "    <tr>\n",
       "      <th>2</th>\n",
       "      <td>It is the worst day in my life</td>\n",
       "      <td>3</td>\n",
       "      <td>NaN</td>\n",
       "      <td>NaN</td>\n",
       "    </tr>\n",
       "    <tr>\n",
       "      <th>3</th>\n",
       "      <td>Miss you so much</td>\n",
       "      <td>0</td>\n",
       "      <td>NaN</td>\n",
       "      <td>[0]</td>\n",
       "    </tr>\n",
       "    <tr>\n",
       "      <th>4</th>\n",
       "      <td>food is life</td>\n",
       "      <td>4</td>\n",
       "      <td>NaN</td>\n",
       "      <td>NaN</td>\n",
       "    </tr>\n",
       "    <tr>\n",
       "      <th>5</th>\n",
       "      <td>I love you mum</td>\n",
       "      <td>0</td>\n",
       "      <td>NaN</td>\n",
       "      <td>NaN</td>\n",
       "    </tr>\n",
       "    <tr>\n",
       "      <th>6</th>\n",
       "      <td>Stop saying bullshit</td>\n",
       "      <td>3</td>\n",
       "      <td>NaN</td>\n",
       "      <td>NaN</td>\n",
       "    </tr>\n",
       "    <tr>\n",
       "      <th>7</th>\n",
       "      <td>congratulations on your acceptance</td>\n",
       "      <td>2</td>\n",
       "      <td>NaN</td>\n",
       "      <td>NaN</td>\n",
       "    </tr>\n",
       "    <tr>\n",
       "      <th>8</th>\n",
       "      <td>The assignment is too long</td>\n",
       "      <td>3</td>\n",
       "      <td>NaN</td>\n",
       "      <td>NaN</td>\n",
       "    </tr>\n",
       "    <tr>\n",
       "      <th>9</th>\n",
       "      <td>I want to go play</td>\n",
       "      <td>1</td>\n",
       "      <td>NaN</td>\n",
       "      <td>[3]</td>\n",
       "    </tr>\n",
       "  </tbody>\n",
       "</table>\n",
       "</div>"
      ],
      "text/plain": [
       "                                    0  1   2     3\n",
       "0              never talk to me again  3 NaN   NaN\n",
       "1     I am proud of your achievements  2 NaN   NaN\n",
       "2      It is the worst day in my life  3 NaN   NaN\n",
       "3                    Miss you so much  0 NaN   [0]\n",
       "4                        food is life  4 NaN   NaN\n",
       "5                      I love you mum  0 NaN   NaN\n",
       "6                Stop saying bullshit  3 NaN   NaN\n",
       "7  congratulations on your acceptance  2 NaN   NaN\n",
       "8         The assignment is too long   3 NaN   NaN\n",
       "9                   I want to go play  1 NaN   [3]"
      ]
     },
     "execution_count": 39,
     "metadata": {
      "tags": []
     },
     "output_type": "execute_result"
    }
   ],
   "source": [
    "train.head(10)"
   ]
  },
  {
   "cell_type": "markdown",
   "metadata": {
    "colab_type": "text",
    "id": "N-7oldPCgJPp"
   },
   "source": [
    "--> preparing the emojis to be used"
   ]
  },
  {
   "cell_type": "code",
   "execution_count": 0,
   "metadata": {
    "colab": {},
    "colab_type": "code",
    "id": "kQh1ws36Ci2Y"
   },
   "outputs": [],
   "source": [
    "emoji_dict = {\n",
    "    0:\":beating_heart:\",\n",
    "    1:\":baseball:\",\n",
    "    2:\":beaming_face_with_smiling_eyes:\",\n",
    "    3:\":disappointed_face:\",\n",
    "    4:\":fork_and_knife:\"    \n",
    "}"
   ]
  },
  {
   "cell_type": "code",
   "execution_count": 41,
   "metadata": {
    "colab": {
     "base_uri": "https://localhost:8080/",
     "height": 101
    },
    "colab_type": "code",
    "id": "7IXgAm93DYc4",
    "outputId": "f58e668a-01f7-4e4c-9576-692243df6b46"
   },
   "outputs": [
    {
     "name": "stdout",
     "output_type": "stream",
     "text": [
      "💓\n",
      "⚾\n",
      "😁\n",
      "😞\n",
      "🍴\n"
     ]
    }
   ],
   "source": [
    "for ix in emoji_dict.values():\n",
    "    print(emoji.emojize(ix))"
   ]
  },
  {
   "cell_type": "code",
   "execution_count": 0,
   "metadata": {
    "colab": {},
    "colab_type": "code",
    "id": "FOMyTcjmDcSs"
   },
   "outputs": [],
   "source": [
    "x_train = train[0]\n",
    "y_train = train[1]\n",
    "\n",
    "x_test = test[0]\n",
    "y_test = test[1]"
   ]
  },
  {
   "cell_type": "code",
   "execution_count": 43,
   "metadata": {
    "colab": {
     "base_uri": "https://localhost:8080/",
     "height": 101
    },
    "colab_type": "code",
    "id": "aIhvz-5ZEtKP",
    "outputId": "ff4e3a37-326a-43c6-d059-42adddd8ff60"
   },
   "outputs": [
    {
     "name": "stdout",
     "output_type": "stream",
     "text": [
      "never talk to me again 😞\n",
      "I am proud of your achievements 😁\n",
      "It is the worst day in my life 😞\n",
      "Miss you so much 💓\n",
      "food is life 🍴\n"
     ]
    }
   ],
   "source": [
    "for i in range(5):\n",
    "  print(x_train[i] , emoji.emojize(emoji_dict[y_train[i]]))"
   ]
  },
  {
   "cell_type": "markdown",
   "metadata": {
    "colab_type": "text",
    "id": "RwSANC8MgSIF"
   },
   "source": [
    "--> using glove vector method to obtain word embeddings "
   ]
  },
  {
   "cell_type": "code",
   "execution_count": 0,
   "metadata": {
    "colab": {},
    "colab_type": "code",
    "id": "hvX5wfMfJYBq"
   },
   "outputs": [],
   "source": [
    "embeddings = {}\n",
    "with open('/content/drive/My Drive/glove.6B.50d.txt',encoding='utf-8') as f:\n",
    "    for line in f:\n",
    "        values = line.split()\n",
    "        word = values[0]\n",
    "        coeffs = np.asarray(values[1:],dtype='float32')\n",
    "\n",
    "        embeddings[word] = coeffs"
   ]
  },
  {
   "cell_type": "code",
   "execution_count": 45,
   "metadata": {
    "colab": {
     "base_uri": "https://localhost:8080/",
     "height": 202
    },
    "colab_type": "code",
    "id": "OecoIouhLmC0",
    "outputId": "fd51f5f9-ef90-43cf-ef09-586ef746f404"
   },
   "outputs": [
    {
     "data": {
      "text/plain": [
       "array([ 4.1800e-01,  2.4968e-01, -4.1242e-01,  1.2170e-01,  3.4527e-01,\n",
       "       -4.4457e-02, -4.9688e-01, -1.7862e-01, -6.6023e-04, -6.5660e-01,\n",
       "        2.7843e-01, -1.4767e-01, -5.5677e-01,  1.4658e-01, -9.5095e-03,\n",
       "        1.1658e-02,  1.0204e-01, -1.2792e-01, -8.4430e-01, -1.2181e-01,\n",
       "       -1.6801e-02, -3.3279e-01, -1.5520e-01, -2.3131e-01, -1.9181e-01,\n",
       "       -1.8823e+00, -7.6746e-01,  9.9051e-02, -4.2125e-01, -1.9526e-01,\n",
       "        4.0071e+00, -1.8594e-01, -5.2287e-01, -3.1681e-01,  5.9213e-04,\n",
       "        7.4449e-03,  1.7778e-01, -1.5897e-01,  1.2041e-02, -5.4223e-02,\n",
       "       -2.9871e-01, -1.5749e-01, -3.4758e-01, -4.5637e-02, -4.4251e-01,\n",
       "        1.8785e-01,  2.7849e-03, -1.8411e-01, -1.1514e-01, -7.8581e-01],\n",
       "      dtype=float32)"
      ]
     },
     "execution_count": 45,
     "metadata": {
      "tags": []
     },
     "output_type": "execute_result"
    }
   ],
   "source": [
    "embeddings[\"the\"]"
   ]
  },
  {
   "cell_type": "markdown",
   "metadata": {
    "colab_type": "text",
    "id": "rARlxcYFhZvg"
   },
   "source": [
    "--> creating a function to give every word its embedding in a group of sentences "
   ]
  },
  {
   "cell_type": "code",
   "execution_count": 0,
   "metadata": {
    "colab": {},
    "colab_type": "code",
    "id": "R-rk86HyLoiM"
   },
   "outputs": [],
   "source": [
    "def getOutputEmbeddings(X):\n",
    "    \n",
    "    embedding_matrix_output = np.zeros((X.shape[0],10,50))\n",
    "    for ix in range(X.shape[0]):\n",
    "        X[ix] = X[ix].split()\n",
    "        for jx in range(len(X[ix])):\n",
    "            embedding_matrix_output[ix][jx] = embeddings[X[ix][jx].lower()]\n",
    "            \n",
    "    return embedding_matrix_output "
   ]
  },
  {
   "cell_type": "code",
   "execution_count": 47,
   "metadata": {
    "colab": {
     "base_uri": "https://localhost:8080/",
     "height": 101
    },
    "colab_type": "code",
    "id": "v2R91n5CP2dg",
    "outputId": "01f37945-c557-4e8b-9def-2135865934a1"
   },
   "outputs": [
    {
     "name": "stderr",
     "output_type": "stream",
     "text": [
      "/usr/local/lib/python3.6/dist-packages/ipykernel_launcher.py:5: SettingWithCopyWarning: \n",
      "A value is trying to be set on a copy of a slice from a DataFrame\n",
      "\n",
      "See the caveats in the documentation: http://pandas.pydata.org/pandas-docs/stable/user_guide/indexing.html#returning-a-view-versus-a-copy\n",
      "  \"\"\"\n"
     ]
    }
   ],
   "source": [
    "x_trainemb = getOutputEmbeddings(x_train)"
   ]
  },
  {
   "cell_type": "code",
   "execution_count": 48,
   "metadata": {
    "colab": {
     "base_uri": "https://localhost:8080/",
     "height": 101
    },
    "colab_type": "code",
    "id": "GNV31erdQpTl",
    "outputId": "a248bca0-0857-47be-f810-3edf064f04ed"
   },
   "outputs": [
    {
     "name": "stderr",
     "output_type": "stream",
     "text": [
      "/usr/local/lib/python3.6/dist-packages/ipykernel_launcher.py:5: SettingWithCopyWarning: \n",
      "A value is trying to be set on a copy of a slice from a DataFrame\n",
      "\n",
      "See the caveats in the documentation: http://pandas.pydata.org/pandas-docs/stable/user_guide/indexing.html#returning-a-view-versus-a-copy\n",
      "  \"\"\"\n"
     ]
    }
   ],
   "source": [
    "x_test_emb = getOutputEmbeddings(x_test)"
   ]
  },
  {
   "cell_type": "code",
   "execution_count": 49,
   "metadata": {
    "colab": {
     "base_uri": "https://localhost:8080/",
     "height": 50
    },
    "colab_type": "code",
    "id": "awTeD-1MR9ZI",
    "outputId": "2b77970c-1b57-425c-e64e-830624d235d3"
   },
   "outputs": [
    {
     "name": "stdout",
     "output_type": "stream",
     "text": [
      "(132, 10, 50)\n",
      "(56, 10, 50)\n"
     ]
    }
   ],
   "source": [
    "print(x_trainemb.shape)\n",
    "print(x_test_emb.shape)"
   ]
  },
  {
   "cell_type": "markdown",
   "metadata": {
    "colab_type": "text",
    "id": "Lh8JfpCJhhCr"
   },
   "source": [
    "--> creating the RNN architecture"
   ]
  },
  {
   "cell_type": "code",
   "execution_count": 0,
   "metadata": {
    "colab": {},
    "colab_type": "code",
    "id": "SMqBPJnvSE8f"
   },
   "outputs": [],
   "source": [
    "from keras.layers import *\n",
    "from keras.models import Sequential\n",
    "from keras.utils import to_categorical"
   ]
  },
  {
   "cell_type": "code",
   "execution_count": 0,
   "metadata": {
    "colab": {},
    "colab_type": "code",
    "id": "zXBKnSgcV7tR"
   },
   "outputs": [],
   "source": [
    "y_train = to_categorical(y_train)\n",
    "y_test = to_categorical(y_test)"
   ]
  },
  {
   "cell_type": "code",
   "execution_count": 52,
   "metadata": {
    "colab": {
     "base_uri": "https://localhost:8080/",
     "height": 353
    },
    "colab_type": "code",
    "id": "TMcbpc_ITiFj",
    "outputId": "16b2a657-b213-412b-f917-127aa4ba52f0"
   },
   "outputs": [
    {
     "name": "stdout",
     "output_type": "stream",
     "text": [
      "Model: \"sequential_2\"\n",
      "_________________________________________________________________\n",
      "Layer (type)                 Output Shape              Param #   \n",
      "=================================================================\n",
      "lstm_3 (LSTM)                (None, 10, 64)            29440     \n",
      "_________________________________________________________________\n",
      "dropout_3 (Dropout)          (None, 10, 64)            0         \n",
      "_________________________________________________________________\n",
      "lstm_4 (LSTM)                (None, 64)                33024     \n",
      "_________________________________________________________________\n",
      "dropout_4 (Dropout)          (None, 64)                0         \n",
      "_________________________________________________________________\n",
      "dense_2 (Dense)              (None, 5)                 325       \n",
      "_________________________________________________________________\n",
      "activation_2 (Activation)    (None, 5)                 0         \n",
      "=================================================================\n",
      "Total params: 62,789\n",
      "Trainable params: 62,789\n",
      "Non-trainable params: 0\n",
      "_________________________________________________________________\n"
     ]
    }
   ],
   "source": [
    "model = Sequential()\n",
    "model.add(LSTM(64,input_shape=(10,50),return_sequences=True))\n",
    "model.add(Dropout(0.4))\n",
    "model.add(LSTM(64,input_shape=(10,50)))\n",
    "model.add(Dropout(0.3))\n",
    "model.add(Dense(5))\n",
    "model.add(Activation('softmax'))\n",
    "model.summary()"
   ]
  },
  {
   "cell_type": "markdown",
   "metadata": {
    "colab_type": "text",
    "id": "tNRxojP2hoo2"
   },
   "source": [
    "--> compiling the created RNN model"
   ]
  },
  {
   "cell_type": "code",
   "execution_count": 53,
   "metadata": {
    "colab": {
     "base_uri": "https://localhost:8080/",
     "height": 1000
    },
    "colab_type": "code",
    "id": "npvC0JGyTyqi",
    "outputId": "340458cf-2537-4888-d202-61d03df8af50"
   },
   "outputs": [
    {
     "name": "stdout",
     "output_type": "stream",
     "text": [
      "Train on 118 samples, validate on 14 samples\n",
      "Epoch 1/40\n",
      "118/118 [==============================] - 2s 17ms/step - loss: 1.5823 - acc: 0.3390 - val_loss: 1.5800 - val_acc: 0.3571\n",
      "Epoch 2/40\n",
      "118/118 [==============================] - 0s 747us/step - loss: 1.5296 - acc: 0.3644 - val_loss: 1.5805 - val_acc: 0.3571\n",
      "Epoch 3/40\n",
      "118/118 [==============================] - 0s 760us/step - loss: 1.4854 - acc: 0.3729 - val_loss: 1.5860 - val_acc: 0.3571\n",
      "Epoch 4/40\n",
      "118/118 [==============================] - 0s 768us/step - loss: 1.4538 - acc: 0.3814 - val_loss: 1.5759 - val_acc: 0.2857\n",
      "Epoch 5/40\n",
      "118/118 [==============================] - 0s 768us/step - loss: 1.4251 - acc: 0.3983 - val_loss: 1.5137 - val_acc: 0.2857\n",
      "Epoch 6/40\n",
      "118/118 [==============================] - 0s 778us/step - loss: 1.3390 - acc: 0.5000 - val_loss: 1.4353 - val_acc: 0.3571\n",
      "Epoch 7/40\n",
      "118/118 [==============================] - 0s 765us/step - loss: 1.2658 - acc: 0.5339 - val_loss: 1.3446 - val_acc: 0.5000\n",
      "Epoch 8/40\n",
      "118/118 [==============================] - 0s 784us/step - loss: 1.1777 - acc: 0.5085 - val_loss: 1.2931 - val_acc: 0.5000\n",
      "Epoch 9/40\n",
      "118/118 [==============================] - 0s 785us/step - loss: 1.0605 - acc: 0.6780 - val_loss: 1.3257 - val_acc: 0.4286\n",
      "Epoch 10/40\n",
      "118/118 [==============================] - 0s 784us/step - loss: 0.9653 - acc: 0.6441 - val_loss: 1.1886 - val_acc: 0.5000\n",
      "Epoch 11/40\n",
      "118/118 [==============================] - 0s 779us/step - loss: 0.8718 - acc: 0.6949 - val_loss: 1.1552 - val_acc: 0.5000\n",
      "Epoch 12/40\n",
      "118/118 [==============================] - 0s 751us/step - loss: 0.8217 - acc: 0.7119 - val_loss: 1.1912 - val_acc: 0.5714\n",
      "Epoch 13/40\n",
      "118/118 [==============================] - 0s 784us/step - loss: 0.6701 - acc: 0.7797 - val_loss: 1.1263 - val_acc: 0.5714\n",
      "Epoch 14/40\n",
      "118/118 [==============================] - 0s 795us/step - loss: 0.6031 - acc: 0.8051 - val_loss: 1.7210 - val_acc: 0.4286\n",
      "Epoch 15/40\n",
      "118/118 [==============================] - 0s 780us/step - loss: 0.5582 - acc: 0.8559 - val_loss: 0.9546 - val_acc: 0.5000\n",
      "Epoch 16/40\n",
      "118/118 [==============================] - 0s 790us/step - loss: 0.6029 - acc: 0.7797 - val_loss: 1.0271 - val_acc: 0.5714\n",
      "Epoch 17/40\n",
      "118/118 [==============================] - 0s 816us/step - loss: 0.5102 - acc: 0.8305 - val_loss: 1.2919 - val_acc: 0.5000\n",
      "Epoch 18/40\n",
      "118/118 [==============================] - 0s 831us/step - loss: 0.5066 - acc: 0.8220 - val_loss: 1.0294 - val_acc: 0.5714\n",
      "Epoch 19/40\n",
      "118/118 [==============================] - 0s 859us/step - loss: 0.3645 - acc: 0.8814 - val_loss: 1.1151 - val_acc: 0.5714\n",
      "Epoch 20/40\n",
      "118/118 [==============================] - 0s 772us/step - loss: 0.4059 - acc: 0.8729 - val_loss: 0.9631 - val_acc: 0.6429\n",
      "Epoch 21/40\n",
      "118/118 [==============================] - 0s 789us/step - loss: 0.3496 - acc: 0.8983 - val_loss: 1.0176 - val_acc: 0.6429\n",
      "Epoch 22/40\n",
      "118/118 [==============================] - 0s 773us/step - loss: 0.3063 - acc: 0.8983 - val_loss: 1.0314 - val_acc: 0.5714\n",
      "Epoch 23/40\n",
      "118/118 [==============================] - 0s 788us/step - loss: 0.2747 - acc: 0.9322 - val_loss: 0.9549 - val_acc: 0.6429\n",
      "Epoch 24/40\n",
      "118/118 [==============================] - 0s 787us/step - loss: 0.2353 - acc: 0.9322 - val_loss: 0.8999 - val_acc: 0.6429\n",
      "Epoch 25/40\n",
      "118/118 [==============================] - 0s 776us/step - loss: 0.2296 - acc: 0.9407 - val_loss: 0.9505 - val_acc: 0.6429\n",
      "Epoch 26/40\n",
      "118/118 [==============================] - 0s 779us/step - loss: 0.1950 - acc: 0.9322 - val_loss: 0.9363 - val_acc: 0.6429\n",
      "Epoch 27/40\n",
      "118/118 [==============================] - 0s 782us/step - loss: 0.2171 - acc: 0.9237 - val_loss: 1.2360 - val_acc: 0.5000\n",
      "Epoch 28/40\n",
      "118/118 [==============================] - 0s 775us/step - loss: 0.2426 - acc: 0.9322 - val_loss: 0.5924 - val_acc: 0.7143\n",
      "Epoch 29/40\n",
      "118/118 [==============================] - 0s 771us/step - loss: 0.1591 - acc: 0.9492 - val_loss: 1.1311 - val_acc: 0.7143\n",
      "Epoch 30/40\n",
      "118/118 [==============================] - 0s 788us/step - loss: 0.1902 - acc: 0.9322 - val_loss: 0.7762 - val_acc: 0.5714\n",
      "Epoch 31/40\n",
      "118/118 [==============================] - 0s 781us/step - loss: 0.1607 - acc: 0.9407 - val_loss: 0.4914 - val_acc: 0.7857\n",
      "Epoch 32/40\n",
      "118/118 [==============================] - 0s 799us/step - loss: 0.0934 - acc: 0.9915 - val_loss: 0.6147 - val_acc: 0.6429\n",
      "Epoch 33/40\n",
      "118/118 [==============================] - 0s 776us/step - loss: 0.1445 - acc: 0.9661 - val_loss: 0.6768 - val_acc: 0.6429\n",
      "Epoch 34/40\n",
      "118/118 [==============================] - 0s 768us/step - loss: 0.0823 - acc: 0.9915 - val_loss: 0.5865 - val_acc: 0.7143\n",
      "Epoch 35/40\n",
      "118/118 [==============================] - 0s 777us/step - loss: 0.1291 - acc: 0.9661 - val_loss: 0.9846 - val_acc: 0.5714\n",
      "Epoch 36/40\n",
      "118/118 [==============================] - 0s 782us/step - loss: 0.1167 - acc: 0.9661 - val_loss: 0.6532 - val_acc: 0.6429\n",
      "Epoch 37/40\n",
      "118/118 [==============================] - 0s 828us/step - loss: 0.0836 - acc: 0.9746 - val_loss: 0.5687 - val_acc: 0.8571\n",
      "Epoch 38/40\n",
      "118/118 [==============================] - 0s 793us/step - loss: 0.1564 - acc: 0.9407 - val_loss: 1.5608 - val_acc: 0.4286\n",
      "Epoch 39/40\n",
      "118/118 [==============================] - 0s 786us/step - loss: 0.1047 - acc: 0.9661 - val_loss: 0.9572 - val_acc: 0.6429\n",
      "Epoch 40/40\n",
      "118/118 [==============================] - 0s 771us/step - loss: 0.0734 - acc: 0.9915 - val_loss: 0.6048 - val_acc: 0.7143\n"
     ]
    },
    {
     "data": {
      "text/plain": [
       "<keras.callbacks.History at 0x7fb88317e0f0>"
      ]
     },
     "execution_count": 53,
     "metadata": {
      "tags": []
     },
     "output_type": "execute_result"
    }
   ],
   "source": [
    "model.compile(optimizer='adam',loss='categorical_crossentropy',metrics=['acc'])\n",
    "model.fit(x_trainemb,y_train,batch_size=32,epochs=40,shuffle=True,validation_split=0.1)"
   ]
  },
  {
   "cell_type": "markdown",
   "metadata": {
    "colab_type": "text",
    "id": "XfgugbkUhwZD"
   },
   "source": [
    "--> testing the model on the test set"
   ]
  },
  {
   "cell_type": "code",
   "execution_count": 55,
   "metadata": {
    "colab": {
     "base_uri": "https://localhost:8080/",
     "height": 50
    },
    "colab_type": "code",
    "id": "FHBrJq2xUzJq",
    "outputId": "bd65c66a-a322-4783-9ad8-572505fedab1"
   },
   "outputs": [
    {
     "name": "stdout",
     "output_type": "stream",
     "text": [
      "56/56 [==============================] - 0s 410us/step\n"
     ]
    },
    {
     "data": {
      "text/plain": [
       "[1.3857608011790685, 0.589285705770765]"
      ]
     },
     "execution_count": 55,
     "metadata": {
      "tags": []
     },
     "output_type": "execute_result"
    }
   ],
   "source": [
    "model.evaluate(x_test_emb,y_test)"
   ]
  },
  {
   "cell_type": "code",
   "execution_count": 0,
   "metadata": {
    "colab": {},
    "colab_type": "code",
    "id": "zRjUcgNJXgsc"
   },
   "outputs": [],
   "source": [
    "pred = model.predict_classes(x_test_emb)"
   ]
  },
  {
   "cell_type": "markdown",
   "metadata": {
    "colab_type": "text",
    "id": "CpLugkCjiF6h"
   },
   "source": [
    "-->showing some predicted results"
   ]
  },
  {
   "cell_type": "code",
   "execution_count": 62,
   "metadata": {
    "colab": {
     "base_uri": "https://localhost:8080/",
     "height": 1000
    },
    "colab_type": "code",
    "id": "_CXad2sUgy5J",
    "outputId": "cabe20d1-afa1-4027-cf84-38c29c001833"
   },
   "outputs": [
    {
     "name": "stdout",
     "output_type": "stream",
     "text": [
      "I want to eat\n",
      "expected : 🍴\n",
      "predicted : 🍴\n",
      "\n",
      "he did not answer\n",
      "expected : 😞\n",
      "predicted : 😞\n",
      "\n",
      "he got a raise\n",
      "expected : 😁\n",
      "predicted : 😞\n",
      "\n",
      "she got me a present\n",
      "expected : 💓\n",
      "predicted : 💓\n",
      "\n",
      "ha ha ha it was so funny\n",
      "expected : 😁\n",
      "predicted : 😁\n",
      "\n",
      "he is a good friend\n",
      "expected : 💓\n",
      "predicted : 😁\n",
      "\n",
      "I am upset\n",
      "expected : 💓\n",
      "predicted : 😞\n",
      "\n",
      "We had such a lovely dinner tonight\n",
      "expected : 💓\n",
      "predicted : 😁\n",
      "\n",
      "where is the food\n",
      "expected : 🍴\n",
      "predicted : 🍴\n",
      "\n",
      "Stop making this joke ha ha ha\n",
      "expected : 😁\n",
      "predicted : 😁\n",
      "\n",
      "where is the ball\n",
      "expected : ⚾\n",
      "predicted : ⚾\n",
      "\n",
      "work is hard\n",
      "expected : 😞\n",
      "predicted : 😁\n",
      "\n",
      "This girl is messing with me\n",
      "expected : 😞\n",
      "predicted : 💓\n",
      "\n",
      "are you serious ha ha\n",
      "expected : 😁\n",
      "predicted : 😞\n",
      "\n",
      "Let us go play baseball\n",
      "expected : ⚾\n",
      "predicted : ⚾\n",
      "\n",
      "This stupid grader is not working\n",
      "expected : 😞\n",
      "predicted : 😞\n",
      "\n",
      "work is horrible\n",
      "expected : 😞\n",
      "predicted : 😞\n",
      "\n",
      "Congratulation for having a baby\n",
      "expected : 😁\n",
      "predicted : 😁\n",
      "\n",
      "stop messing around\n",
      "expected : 😞\n",
      "predicted : 😞\n",
      "\n",
      "any suggestions for dinner\n",
      "expected : 🍴\n",
      "predicted : 😁\n",
      "\n",
      "I love taking breaks\n",
      "expected : 💓\n",
      "predicted : 💓\n",
      "\n",
      "you brighten my day\n",
      "expected : 😁\n",
      "predicted : 💓\n",
      "\n",
      "I boiled rice\n",
      "expected : 🍴\n",
      "predicted : 🍴\n",
      "\n",
      "she is a bully\n",
      "expected : 😞\n",
      "predicted : 😁\n",
      "\n",
      "Why are you feeling bad\n",
      "expected : 😞\n",
      "predicted : 😞\n",
      "\n",
      "I am upset\n",
      "expected : 😞\n",
      "predicted : 😞\n",
      "\n",
      "I worked during my birthday\n",
      "expected : 😞\n",
      "predicted : 😁\n",
      "\n",
      "My grandmother is the love of my life\n",
      "expected : 💓\n",
      "predicted : 💓\n",
      "\n",
      "enjoy your break\n",
      "expected : 😁\n",
      "predicted : ⚾\n",
      "\n",
      "valentine day is near\n",
      "expected : 💓\n",
      "predicted : 😁\n",
      "\n"
     ]
    }
   ],
   "source": [
    "for i in range(30):\n",
    "    print(' '.join(x_test[i]))\n",
    "    print(\"expected : \" + emoji.emojize(emoji_dict[np.argmax(y_test[i])]))\n",
    "    print(\"predicted : \" + emoji.emojize(emoji_dict[pred[i]]) + \"\\n\")    "
   ]
  }
 ],
 "metadata": {
  "colab": {
   "name": "emojiprediction.ipynb",
   "provenance": []
  },
  "kernelspec": {
   "display_name": "Python 3",
   "language": "python",
   "name": "python3"
  },
  "language_info": {
   "codemirror_mode": {
    "name": "ipython",
    "version": 3
   },
   "file_extension": ".py",
   "mimetype": "text/x-python",
   "name": "python",
   "nbconvert_exporter": "python",
   "pygments_lexer": "ipython3",
   "version": "3.6.5"
  }
 },
 "nbformat": 4,
 "nbformat_minor": 1
}
